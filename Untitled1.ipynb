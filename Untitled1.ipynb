{
 "cells": [
  {
   "cell_type": "code",
   "execution_count": 21,
   "metadata": {},
   "outputs": [
    {
     "name": "stdout",
     "output_type": "stream",
     "text": [
      "12\n"
     ]
    }
   ],
   "source": [
    "A = 'Vijay Mallya'\n",
    "print(len(A))"
   ]
  },
  {
   "cell_type": "code",
   "execution_count": 1,
   "metadata": {},
   "outputs": [
    {
     "name": "stdout",
     "output_type": "stream",
     "text": [
      "5\n"
     ]
    }
   ],
   "source": [
    "a = 'Arjun'\n",
    "print(len(a))"
   ]
  },
  {
   "cell_type": "code",
   "execution_count": 2,
   "metadata": {},
   "outputs": [
    {
     "name": "stdout",
     "output_type": "stream",
     "text": [
      "range(0, 5)\n"
     ]
    }
   ],
   "source": [
    "print(range(len(a)))"
   ]
  },
  {
   "cell_type": "code",
   "execution_count": 3,
   "metadata": {},
   "outputs": [
    {
     "name": "stdout",
     "output_type": "stream",
     "text": [
      "A\n",
      "r\n",
      "j\n",
      "u\n",
      "n\n"
     ]
    }
   ],
   "source": [
    "for i in a:\n",
    "    print(i)\n"
   ]
  },
  {
   "cell_type": "code",
   "execution_count": 8,
   "metadata": {},
   "outputs": [
    {
     "name": "stdout",
     "output_type": "stream",
     "text": [
      "Arjun\n",
      "Arjun\n",
      "Arjun\n",
      "Arjun\n",
      "Arjun\n"
     ]
    }
   ],
   "source": [
    "for i in a:\n",
    "    print (a)"
   ]
  },
  {
   "cell_type": "code",
   "execution_count": null,
   "metadata": {},
   "outputs": [],
   "source": [
    "#Anagrams\n",
    "\n",
    "flag = 0\n",
    "for i in str1:\n",
    "    c1 = 0\n",
    "    for j in str1:\n",
    "        if (i==j):\n",
    "            c1+=1\n",
    "            c2 = 0\n",
    "            for k in str2:\n",
    "                if(k==i)\n",
    "                c2+=1\n",
    "                if(c1!=c2):\n",
    "                    flag = 1\n",
    "                    break\n",
    "if (flag == 0)\n",
    "print('Anagrams')\n",
    "print('not anagrams')        "
   ]
  },
  {
   "cell_type": "code",
   "execution_count": 14,
   "metadata": {},
   "outputs": [
    {
     "name": "stdout",
     "output_type": "stream",
     "text": [
      "G\n",
      "e\n",
      "o\n",
      "r\n",
      "g\n",
      "e\n",
      " \n",
      "s\n",
      "o\n",
      "r\n",
      "o\n",
      "s\n"
     ]
    }
   ],
   "source": [
    "#Remove duplicates from a string\n",
    "a = 'George soros'\n",
    "\n",
    "for i in a:\n",
    "    print(i)\n",
    "    "
   ]
  },
  {
   "cell_type": "code",
   "execution_count": 19,
   "metadata": {},
   "outputs": [],
   "source": [
    "empty_string = \"\"\n",
    "for i in empty_string:\n",
    "    print(i)\n",
    "            "
   ]
  },
  {
   "cell_type": "code",
   "execution_count": 25,
   "metadata": {},
   "outputs": [
    {
     "name": "stdout",
     "output_type": "stream",
     "text": [
      "Enter no. of elements2\n",
      "1\n",
      "2\n",
      "['1', '2']\n"
     ]
    }
   ],
   "source": [
    "lst = []\n",
    "n = int(input('Enter no. of elements'))\n",
    "for i in range(0,n):\n",
    "    x = input()\n",
    "    lst.append(x)\n",
    "print(lst)\n",
    "#these are in form of strings, if not single quote then only they \n",
    "             "
   ]
  },
  {
   "cell_type": "code",
   "execution_count": 7,
   "metadata": {},
   "outputs": [
    {
     "name": "stdout",
     "output_type": "stream",
     "text": [
      "enter the no. of elements9\n",
      "1\n",
      "2\n",
      "2\n",
      "66\n",
      "666\n",
      "7\n",
      "2\n",
      "3\n",
      "3\n",
      "['1', '2', '2', '66', '666', '7', '2', '3', '3']\n",
      "[0, 1, 2, 3, 4, 5, 6, 7, 8]\n"
     ]
    }
   ],
   "source": [
    "#Remove duplicate from a list #wrong\n",
    "lst = []\n",
    "lst1 = []\n",
    "n = int(input('enter the no. of elements'))\n",
    "for i in range (0,n):\n",
    "    x = input()\n",
    "    lst.append(x)\n",
    "print(lst)\n",
    "for j in range(0,n):\n",
    "    for k in range(0,j+1):\n",
    "        if(k==j):\n",
    "            lst1.append(j)\n",
    "print(lst1)\n",
    "        \n",
    "            \n",
    "        \n",
    "        \n",
    "    \n",
    "        "
   ]
  },
  {
   "cell_type": "code",
   "execution_count": null,
   "metadata": {},
   "outputs": [],
   "source": [
    "#remove duplicate:\n",
    "x  = int(input(\"Enter size of list: \"))\n",
    "\n",
    "myList = []\n",
    "\n",
    "for i in range(x):\n",
    "\tval = input()\n",
    "\tmyList.append(val)\n",
    "\n",
    "print(myList)\n",
    "\n",
    "flag = []\n",
    "\n",
    "answer = []\n",
    "\n",
    "for i in range(x):\n",
    "\tif myList[i] in flag:\n",
    "\t\tcontinue\n",
    "\n",
    "\tcheck = 0\n",
    "\n",
    "\tfor j in range(i+1,x):\n",
    "\t\tif myList[j] == myList[i]:\n",
    "\t\t\tcheck = 1\n",
    "\t\t\tbreak\n",
    "\n",
    "\tif check == 1:\n",
    "\t\tflag.append(myList[i])\n",
    "\telse:\n",
    "\t\tanswer.append(myList[i])\n",
    "\n",
    "print(\"List after removing duplicates: {}\".format(answer))\n",
    "\n"
   ]
  },
  {
   "cell_type": "code",
   "execution_count": null,
   "metadata": {},
   "outputs": [],
   "source": [
    "# cook your dish here\n",
    "x  = int(input(\"Enter size of list: \"))\n",
    "\n",
    "myList = []\n",
    "\n",
    "for i in range(x):\n",
    "\tval = input()\n",
    "\tmyList.append(val)\n",
    "\n",
    "print(myList)\n",
    "\n",
    "answer = []\n",
    "\n",
    "for i in range(x):\n",
    "    if myList[i] not in answer\n",
    "        answer.append(myList[i])\n",
    "print(answer)\n",
    "        \n",
    "print(\"List after removing duplicates: {}\".format(answer))\n",
    "\n"
   ]
  },
  {
   "cell_type": "code",
   "execution_count": null,
   "metadata": {},
   "outputs": [],
   "source": []
  }
 ],
 "metadata": {
  "kernelspec": {
   "display_name": "Python 3",
   "language": "python",
   "name": "python3"
  },
  "language_info": {
   "codemirror_mode": {
    "name": "ipython",
    "version": 3
   },
   "file_extension": ".py",
   "mimetype": "text/x-python",
   "name": "python",
   "nbconvert_exporter": "python",
   "pygments_lexer": "ipython3",
   "version": "3.7.1"
  }
 },
 "nbformat": 4,
 "nbformat_minor": 2
}
