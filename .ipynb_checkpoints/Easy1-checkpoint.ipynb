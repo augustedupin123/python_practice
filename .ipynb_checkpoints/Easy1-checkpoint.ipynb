{
 "cells": [
  {
   "cell_type": "code",
   "execution_count": 1,
   "metadata": {},
   "outputs": [
    {
     "name": "stdout",
     "output_type": "stream",
     "text": [
      "I am full stack developer\n"
     ]
    }
   ],
   "source": [
    "print('I am full stack developer')"
   ]
  },
  {
   "cell_type": "code",
   "execution_count": 2,
   "metadata": {},
   "outputs": [
    {
     "name": "stdout",
     "output_type": "stream",
     "text": [
      "I am full stack engineer\n"
     ]
    }
   ],
   "source": [
    "print(\"I am full stack engineer\")"
   ]
  },
  {
   "cell_type": "code",
   "execution_count": 8,
   "metadata": {},
   "outputs": [
    {
     "name": "stdout",
     "output_type": "stream",
     "text": [
      "Enter length of the rectangle : 10\n",
      "Enter breadth  of the rectangle : 100\n",
      "Sought area is: 1000.0\n"
     ]
    }
   ],
   "source": [
    "#Area of rectangle\n",
    "def area1(l,b):\n",
    "    \n",
    "    area_rect = l*b\n",
    "    print('Sought area is:', area_rect)\n",
    "    \n",
    "\n",
    "\n",
    "length1 = float(input(\"Enter length of the rectangle : \"))\n",
    "breadth1 = float(input(\"Enter breadth  of the rectangle : \"))\n",
    "\n",
    "area1(length1,breadth1)\n"
   ]
  },
  {
   "cell_type": "code",
   "execution_count": 24,
   "metadata": {},
   "outputs": [
    {
     "name": "stdout",
     "output_type": "stream",
     "text": [
      "Enter110\n",
      "Enter 220\n",
      "200\n"
     ]
    }
   ],
   "source": [
    "def fun(length,bred):\n",
    "    ar = length*bred\n",
    "    #print(ar)\n",
    "    return ar\n",
    "    \n",
    "\n",
    "length = int(input(\"Enter1\"))\n",
    "breadth = int(input(\"Enter 2\"))\n",
    "\n",
    "var = fun(length, breadth)\n",
    "print(var)\n",
    "\n"
   ]
  },
  {
   "cell_type": "code",
   "execution_count": null,
   "metadata": {},
   "outputs": [],
   "source": [
    "#Area of rectangle"
   ]
  },
  {
   "cell_type": "code",
   "execution_count": 17,
   "metadata": {},
   "outputs": [
    {
     "name": "stdout",
     "output_type": "stream",
     "text": [
      "Please Enter the Length of a Triangle: 10\n",
      "Please Enter the Width of a Triangle: 10\n",
      "100.0\n"
     ]
    }
   ],
   "source": [
    "def area_of_rect(length,width):\n",
    "    return length*width\n",
    "length = float(input('Please Enter the Length of a Triangle: '))\n",
    "width = float(input('Please Enter the Width of a Triangle: '))\n",
    "\n",
    "area = area_of_rect(length,width)\n",
    "print(area)"
   ]
  },
  {
   "cell_type": "code",
   "execution_count": null,
   "metadata": {},
   "outputs": [],
   "source": [
    "#Area of square"
   ]
  },
  {
   "cell_type": "code",
   "execution_count": 41,
   "metadata": {},
   "outputs": [
    {
     "name": "stdout",
     "output_type": "stream",
     "text": [
      "Please Enter the length of side of the square: 10\n"
     ]
    },
    {
     "data": {
      "text/plain": [
       "100.0"
      ]
     },
     "execution_count": 41,
     "metadata": {},
     "output_type": "execute_result"
    }
   ],
   "source": [
    "def area_of_square(length):\n",
    "    return length*length\n",
    "length1 = float(input('Please Enter the length of side of the square: '))\n",
    "area_of_square(length1)\n",
    "\n",
    "\n",
    "\n"
   ]
  },
  {
   "cell_type": "code",
   "execution_count": null,
   "metadata": {},
   "outputs": [],
   "source": [
    "#Circumference of circle"
   ]
  },
  {
   "cell_type": "code",
   "execution_count": 26,
   "metadata": {},
   "outputs": [
    {
     "name": "stdout",
     "output_type": "stream",
     "text": [
      "Please enter the radius of the circle66.3\n",
      "Required circumference is 416.364\n"
     ]
    }
   ],
   "source": [
    "def circumference_circle(r):\n",
    "    pi = 3.14\n",
    "    circumference = 2*pi*r\n",
    "    print(\"Required circumference is\", circumference)\n",
    "\n",
    "Radius = float(input('Please enter the radius of the circle'))\n",
    "circumference_circle(Radius)"
   ]
  },
  {
   "cell_type": "code",
   "execution_count": null,
   "metadata": {},
   "outputs": [],
   "source": [
    "#Area of circle:"
   ]
  },
  {
   "cell_type": "code",
   "execution_count": 27,
   "metadata": {},
   "outputs": [
    {
     "name": "stdout",
     "output_type": "stream",
     "text": [
      "Please enter the radius of the circle10\n",
      "Area is: 314.0\n"
     ]
    }
   ],
   "source": [
    "def area(r):\n",
    "    pi = 3.14\n",
    "    area = pi*r*r\n",
    "    print('Area is:',area)\n",
    "Radius = float(input('Please enter the radius of the circle'))\n",
    "area(Radius)\n",
    "    "
   ]
  },
  {
   "cell_type": "code",
   "execution_count": null,
   "metadata": {},
   "outputs": [],
   "source": [
    "#Number is positive negative or 0"
   ]
  },
  {
   "cell_type": "code",
   "execution_count": 31,
   "metadata": {},
   "outputs": [
    {
     "name": "stdout",
     "output_type": "stream",
     "text": [
      "Enter the required number90.0\n",
      "Number is positive\n"
     ]
    }
   ],
   "source": [
    "def num(n):\n",
    "    if(n>0):\n",
    "        print('Number is positive')\n",
    "    if(n<0):\n",
    "        print('Number is negative')\n",
    "    if(n == 0):\n",
    "        print('Number is equal to 0')\n",
    "x = float(input('Enter the required number'))\n",
    "num(x)\n",
    "\n",
    "    "
   ]
  },
  {
   "cell_type": "code",
   "execution_count": null,
   "metadata": {},
   "outputs": [],
   "source": [
    "#Sum of cubes"
   ]
  },
  {
   "cell_type": "code",
   "execution_count": 40,
   "metadata": {},
   "outputs": [
    {
     "name": "stdout",
     "output_type": "stream",
     "text": [
      "Please enter the number10\n",
      "2025\n"
     ]
    }
   ],
   "source": [
    "def sum(n):\n",
    "    sum1 = 0\n",
    "    for x in range (n):\n",
    "        sum1 = sum1 + (x*x*x)\n",
    "    print(sum1)\n",
    "    \n",
    "num = int(input(\"Please enter the number\"))\n",
    "sum(num)"
   ]
  },
  {
   "cell_type": "code",
   "execution_count": null,
   "metadata": {},
   "outputs": [],
   "source": [
    "#Display (x+y)*(x+y)"
   ]
  },
  {
   "cell_type": "code",
   "execution_count": 38,
   "metadata": {},
   "outputs": [
    {
     "name": "stdout",
     "output_type": "stream",
     "text": [
      "enter x12\n",
      "enter y13\n"
     ]
    },
    {
     "data": {
      "text/plain": [
       "625.0"
      ]
     },
     "execution_count": 38,
     "metadata": {},
     "output_type": "execute_result"
    }
   ],
   "source": [
    "def sum(x,y):\n",
    "    return (x+y)*(x+y)\n",
    "\n",
    "num1 = float(input('enter x'))\n",
    "num2 = float(input('enter y'))\n",
    "sum(num1,num2)"
   ]
  },
  {
   "cell_type": "code",
   "execution_count": 44,
   "metadata": {},
   "outputs": [
    {
     "name": "stdout",
     "output_type": "stream",
     "text": [
      "enter first value10\n",
      "enter second value20\n",
      "swapped value of a: 20\n",
      "swapped value of b: 10\n"
     ]
    }
   ],
   "source": [
    "#Swapping variables\n",
    "\n",
    "def swap(a,b):\n",
    "    temp = 0\n",
    "    temp = a\n",
    "    a = b\n",
    "    b = temp\n",
    "    print('swapped value of a:', a)\n",
    "    print('swapped value of b:', b)\n",
    "    \n",
    "p = int(input('enter first value'))\n",
    "g = int(input('enter second value'))\n",
    "\n",
    "swap(p,g)\n",
    "    \n",
    "    \n",
    "    "
   ]
  },
  {
   "cell_type": "code",
   "execution_count": 45,
   "metadata": {},
   "outputs": [
    {
     "name": "stdout",
     "output_type": "stream",
     "text": [
      "Enter the no.10\n",
      "45\n"
     ]
    }
   ],
   "source": [
    "#Sum of first n positive integers\n",
    "def sum(n):\n",
    "    temp = 0\n",
    "    for x in range (n):\n",
    "        temp = temp + x\n",
    "    print(temp)\n",
    "num = int(input('Enter the no.'))\n",
    "sum(num)    "
   ]
  },
  {
   "cell_type": "code",
   "execution_count": 50,
   "metadata": {},
   "outputs": [
    {
     "name": "stdout",
     "output_type": "stream",
     "text": [
      "enter the value100\n",
      "Feet to inches =  1200\n",
      "Feet to yards =  33.0\n",
      "Feet to miles = 0.01\n"
     ]
    }
   ],
   "source": [
    "#Feet to inches yard and mile\n",
    "\n",
    "def feet(num):\n",
    "    print('Feet to inches = ', num*12)\n",
    "    print('Feet to yards = ', num*0.33)\n",
    "    print('Feet to miles =', num*0.0001)\n",
    "flag = int(input('enter the value'))\n",
    "feet(flag)    "
   ]
  },
  {
   "cell_type": "code",
   "execution_count": 51,
   "metadata": {},
   "outputs": [
    {
     "name": "stdout",
     "output_type": "stream",
     "text": [
      "Enter the base:5\n",
      "Enter the perpendicular13\n",
      "13.92838827718412\n"
     ]
    }
   ],
   "source": [
    "#Hypotenuse\n",
    "\n",
    "def hypotenuse(a,b):\n",
    "    c=0\n",
    "    c = ((a*a) + (b*b))**(0.5)\n",
    "    print(c)\n",
    "base = float(input(\"Enter the base:\"))\n",
    "perpendicular = float(input(\"Enter the perpendicular\"))\n",
    "\n",
    "hypotenuse(base,perpendicular)\n",
    "    "
   ]
  },
  {
   "cell_type": "code",
   "execution_count": 52,
   "metadata": {},
   "outputs": [
    {
     "name": "stdout",
     "output_type": "stream",
     "text": [
      "Enter num 160\n",
      "Enter num 255\n"
     ]
    },
    {
     "data": {
      "text/plain": [
       "1"
      ]
     },
     "execution_count": 52,
     "metadata": {},
     "output_type": "execute_result"
    }
   ],
   "source": [
    "#Problem 15\n",
    "def fun(x,y):\n",
    "    if (x == y):\n",
    "        return 1\n",
    "    if ((x+y) ==5):\n",
    "        return 1\n",
    "    if ((x-y) ==5):\n",
    "        return 1\n",
    "A = int(input('Enter num 1'))\n",
    "B = int(input('Enter num 2'))\n",
    "fun(A,B)"
   ]
  },
  {
   "cell_type": "code",
   "execution_count": 1,
   "metadata": {},
   "outputs": [
    {
     "name": "stdout",
     "output_type": "stream",
     "text": [
      "Please enter the first number9\n",
      "Please enter the second number7\n",
      "Sum of given numbers is 16\n"
     ]
    },
    {
     "data": {
      "text/plain": [
       "20"
      ]
     },
     "execution_count": 1,
     "metadata": {},
     "output_type": "execute_result"
    }
   ],
   "source": [
    "#Problem 16\n",
    "def fun(x,y):\n",
    "    print('Sum of given numbers is', (x+y))\n",
    "    if ((x+y)>=15 and (x+y)<=20):\n",
    "        return 20\n",
    "    \n",
    "    \n",
    "A = int(input('Please enter the first number'))\n",
    "B = int(input('Please enter the second number'))\n",
    "fun(A,B)\n",
    "    "
   ]
  },
  {
   "cell_type": "code",
   "execution_count": 3,
   "metadata": {},
   "outputs": [
    {
     "name": "stdout",
     "output_type": "stream",
     "text": [
      "Enter no. of elements:5\n",
      "-2\n",
      "-3\n",
      "-4\n",
      "-5\n",
      "1\n",
      "[-2, -3, -4, -5, 1]\n",
      "1\n"
     ]
    }
   ],
   "source": [
    "#Filter the positives from the list\n",
    "lst = []\n",
    "n = int(input(\"Enter no. of elements:\"))\n",
    "for i in range(0,n):\n",
    "    x = int(input())\n",
    "    lst.append(x)\n",
    "print(lst)\n",
    "for j in lst:\n",
    "    if(j>0):\n",
    "        print(j)\n",
    "    \n"
   ]
  },
  {
   "cell_type": "code",
   "execution_count": 4,
   "metadata": {},
   "outputs": [
    {
     "name": "stdout",
     "output_type": "stream",
     "text": [
      "Enter the dividend30\n",
      "Enter the divisor15\n",
      "Divisible\n"
     ]
    }
   ],
   "source": [
    "#If a number is divisible by anther number\n",
    "def div(x,y):\n",
    "    if(x%y == 0):\n",
    "        print('Divisible')\n",
    "    else:\n",
    "        print('Sorry!')\n",
    "A = int(input('Enter the dividend'))\n",
    "B = int(input('Enter the divisor'))\n",
    "div(A,B)\n",
    "    "
   ]
  },
  {
   "cell_type": "code",
   "execution_count": 14,
   "metadata": {},
   "outputs": [
    {
     "name": "stdout",
     "output_type": "stream",
     "text": [
      "Enter second5000000\n",
      "57.870370370370374\n",
      "20.88888888888889\n",
      "53.333333333333336\n",
      "20\n"
     ]
    }
   ],
   "source": [
    "#Program to convert seconds into days, hours, minutes, seconds\n",
    "def convert(sec):\n",
    "    days = sec/86400\n",
    "    sec = sec%86400\n",
    "    hour = sec/3600\n",
    "    sec = sec%3600\n",
    "    mins = sec/60\n",
    "    sec = sec%60\n",
    "    sec1 = sec\n",
    "    print(days)\n",
    "    print(hour)\n",
    "    print(mins)\n",
    "    print(sec1)\n",
    "A = int(input('Enter second'))\n",
    "convert(A)\n",
    "    "
   ]
  },
  {
   "cell_type": "code",
   "execution_count": 15,
   "metadata": {},
   "outputs": [
    {
     "name": "stdout",
     "output_type": "stream",
     "text": [
      "Enter x11\n",
      "Enter y12\n",
      "Enter x23\n",
      "Enter y24\n"
     ]
    },
    {
     "data": {
      "text/plain": [
       "1.4142135623730951"
      ]
     },
     "execution_count": 15,
     "metadata": {},
     "output_type": "execute_result"
    }
   ],
   "source": [
    "#Distance between two points\n",
    "def distance(x1,x2,y1,y2):\n",
    "    return ((x1 - x2)**2 + (y1 - y2)**2)**0.5\n",
    "A = int(input('Enter x1'))\n",
    "B = int(input('Enter y1'))\n",
    "C = int(input('Enter x2'))\n",
    "D = int(input('Enter y2'))\n",
    "distance(A,B,C,D)"
   ]
  },
  {
   "cell_type": "code",
   "execution_count": null,
   "metadata": {},
   "outputs": [],
   "source": []
  }
 ],
 "metadata": {
  "kernelspec": {
   "display_name": "Python 3",
   "language": "python",
   "name": "python3"
  },
  "language_info": {
   "codemirror_mode": {
    "name": "ipython",
    "version": 3
   },
   "file_extension": ".py",
   "mimetype": "text/x-python",
   "name": "python",
   "nbconvert_exporter": "python",
   "pygments_lexer": "ipython3",
   "version": "3.7.1"
  }
 },
 "nbformat": 4,
 "nbformat_minor": 2
}
